{
 "cells": [
  {
   "cell_type": "code",
   "execution_count": 1,
   "metadata": {
    "scrolled": true
   },
   "outputs": [],
   "source": [
    "import urllib\n",
    "r = urllib.request.urlopen('http://www.kma.go.kr/weather/forecast/mid-term-rss3.jsp?stnId=109')"
   ]
  },
  {
   "cell_type": "code",
   "execution_count": 2,
   "metadata": {
    "scrolled": true
   },
   "outputs": [
    {
     "data": {
      "text/plain": [
       "200"
      ]
     },
     "execution_count": 2,
     "metadata": {},
     "output_type": "execute_result"
    }
   ],
   "source": [
    "r.status"
   ]
  },
  {
   "cell_type": "code",
   "execution_count": 3,
   "metadata": {
    "scrolled": true
   },
   "outputs": [
    {
     "data": {
      "text/plain": [
       "<http.client.HTTPResponse at 0x1ea6c299da0>"
      ]
     },
     "execution_count": 3,
     "metadata": {},
     "output_type": "execute_result"
    }
   ],
   "source": [
    "r"
   ]
  },
  {
   "cell_type": "code",
   "execution_count": 4,
   "metadata": {
    "scrolled": true
   },
   "outputs": [
    {
     "data": {
      "text/plain": [
       "b'<?xml version=\"1.0\" encoding=\"utf-8\" ?>\\r\\n<rss version=\"2.0\">\\r\\n<channel>\\r\\n<title>\\xea\\xb8\\xb0\\xec\\x83\\x81\\xec\\xb2\\xad \\xec\\x9c\\xa1\\xec\\x83\\x81 \\xec\\xa4\\x91\\xea\\xb8\\xb0\\xec\\x98\\x88\\xeb\\xb3\\xb4</title>\\r\\n<link>http://www.kma.go.kr/weather/forecast/mid-term_02.jsp</link>\\r\\n<description>\\xea\\xb8\\xb0\\xec\\x83\\x81\\xec\\xb2\\xad \\xeb\\x82\\xa0\\xec\\x94\\xa8 \\xec\\x9b\\xb9\\xec\\x84\\x9c\\xeb\\xb9\\x84\\xec\\x8a\\xa4</description>\\r\\n<language>ko</language>\\r\\n<generator>\\xea\\xb8\\xb0\\xec\\x83\\x81\\xec\\xb2\\xad</generator>\\r\\n<pubDate>2019\\xeb\\x85\\x84 05\\xec\\x9b\\x94 17\\xec\\x9d\\xbc (\\xea\\xb8\\x88)\\xec\\x9a\\x94\\xec\\x9d\\xbc 18:00</pubDate>\\r\\n <item>\\r\\n<author>\\xea\\xb8\\xb0\\xec\\x83\\x81\\xec\\xb2\\xad</author>\\r\\n<category>\\xec\\x9c\\xa1\\xec\\x83\\x81\\xec\\xa4\\x91\\xea\\xb8\\xb0\\xec\\x98\\x88\\xeb\\xb3\\xb4</category>\\r\\n<title>\\xec\\x84\\x9c\\xec\\x9a\\xb8,\\xea\\xb2\\xbd\\xea\\xb8\\xb0\\xeb\\x8f\\x84 \\xec\\x9c\\xa1\\xec\\x83\\x81 \\xec\\xa4\\x91\\xea\\xb8\\xb0\\xec\\x98\\x88\\xeb\\xb3\\xb4 - 2019\\xeb\\x85\\x84 05\\xec\\x9b\\x94 '"
      ]
     },
     "execution_count": 4,
     "metadata": {},
     "output_type": "execute_result"
    }
   ],
   "source": [
    "r.read(500)"
   ]
  },
  {
   "cell_type": "code",
   "execution_count": 5,
   "metadata": {
    "scrolled": true
   },
   "outputs": [
    {
     "data": {
      "text/plain": [
       "'<?xml version=\"1.0\" encoding=\"utf-8\" ?>\\r\\n<rss version=\"2.0\">\\r\\n<channel>\\r\\n<title>기상청 육상 중기예보</title>\\r\\n<link>http://www.kma.go.kr/weather/forecast/mid-term_02.jsp</link>\\r\\n<description>기상청 날씨 웹서비스</description>\\r\\n<language>ko</language>\\r\\n<generator>기상청</generator>\\r\\n<pubDate>2019년 05월 17일 (금)요일 18:00</pubDate>\\r\\n <item>\\r\\n<author>기상청</author>\\r\\n<category>육상중기예보</category>\\r\\n<title>서울,경기도 육상 중기예보 - 2019년 05월 '"
      ]
     },
     "execution_count": 5,
     "metadata": {},
     "output_type": "execute_result"
    }
   ],
   "source": [
    "r = urllib.request.urlopen('http://www.kma.go.kr/weather/forecast/mid-term-rss3.jsp?stnId=109')\n",
    "r.read(500).decode('utf-8')"
   ]
  },
  {
   "cell_type": "code",
   "execution_count": 6,
   "metadata": {},
   "outputs": [],
   "source": [
    "r = urllib.request.urlopen('http://www.kma.go.kr/weather/forecast/mid-term-rss3.jsp?stnId=109')\n",
    "xml_data = r.read().decode('utf-8')"
   ]
  },
  {
   "cell_type": "code",
   "execution_count": 7,
   "metadata": {},
   "outputs": [],
   "source": [
    "import xml.etree.ElementTree as ET\n",
    "root = ET.fromstring(xml_data)"
   ]
  },
  {
   "cell_type": "code",
   "execution_count": 8,
   "metadata": {},
   "outputs": [
    {
     "data": {
      "text/plain": [
       "<Element 'rss' at 0x000001EA6C2B4C78>"
      ]
     },
     "execution_count": 8,
     "metadata": {},
     "output_type": "execute_result"
    }
   ],
   "source": [
    "root"
   ]
  },
  {
   "cell_type": "code",
   "execution_count": 9,
   "metadata": {},
   "outputs": [
    {
     "data": {
      "text/plain": [
       "'rss'"
      ]
     },
     "execution_count": 9,
     "metadata": {},
     "output_type": "execute_result"
    }
   ],
   "source": [
    "root.tag"
   ]
  },
  {
   "cell_type": "code",
   "execution_count": 10,
   "metadata": {},
   "outputs": [
    {
     "data": {
      "text/plain": [
       "{'version': '2.0'}"
      ]
     },
     "execution_count": 10,
     "metadata": {},
     "output_type": "execute_result"
    }
   ],
   "source": [
    "root.attrib"
   ]
  },
  {
   "cell_type": "code",
   "execution_count": 11,
   "metadata": {},
   "outputs": [
    {
     "name": "stdout",
     "output_type": "stream",
     "text": [
      "channel {}\n"
     ]
    }
   ],
   "source": [
    "for child in root:\n",
    "    print(child.tag, child.attrib)"
   ]
  },
  {
   "cell_type": "code",
   "execution_count": 12,
   "metadata": {},
   "outputs": [
    {
     "name": "stdout",
     "output_type": "stream",
     "text": [
      "title {} 기상청 육상 중기예보\n",
      "link {} http://www.kma.go.kr/weather/forecast/mid-term_02.jsp\n",
      "description {} 기상청 날씨 웹서비스\n",
      "language {} ko\n",
      "generator {} 기상청\n",
      "pubDate {} 2019년 05월 17일 (금)요일 18:00\n",
      "item {} \n",
      "\n"
     ]
    }
   ],
   "source": [
    "for child in root.find('channel'):\n",
    "    print(child.tag, child.attrib, child.text)"
   ]
  },
  {
   "cell_type": "code",
   "execution_count": 13,
   "metadata": {},
   "outputs": [
    {
     "data": {
      "text/plain": [
       "<Element 'title' at 0x000001A49A7559A8>"
      ]
     },
     "execution_count": 13,
     "metadata": {},
     "output_type": "execute_result"
    }
   ],
   "source": [
    "root.find('channel').find('title')"
   ]
  },
  {
   "cell_type": "code",
   "execution_count": 14,
   "metadata": {},
   "outputs": [
    {
     "data": {
      "text/plain": [
       "'title'"
      ]
     },
     "execution_count": 14,
     "metadata": {},
     "output_type": "execute_result"
    }
   ],
   "source": [
    "root.find('channel').find('title').tag"
   ]
  },
  {
   "cell_type": "code",
   "execution_count": 15,
   "metadata": {},
   "outputs": [
    {
     "data": {
      "text/plain": [
       "{}"
      ]
     },
     "execution_count": 15,
     "metadata": {},
     "output_type": "execute_result"
    }
   ],
   "source": [
    "root.find('channel').find('title').attrib"
   ]
  },
  {
   "cell_type": "code",
   "execution_count": 16,
   "metadata": {},
   "outputs": [
    {
     "data": {
      "text/plain": [
       "'기상청 육상 중기예보'"
      ]
     },
     "execution_count": 16,
     "metadata": {},
     "output_type": "execute_result"
    }
   ],
   "source": [
    "root.find('channel').find('title').text"
   ]
  },
  {
   "cell_type": "code",
   "execution_count": 17,
   "metadata": {
    "scrolled": true
   },
   "outputs": [
    {
     "data": {
      "text/plain": [
       "'title'"
      ]
     },
     "execution_count": 17,
     "metadata": {},
     "output_type": "execute_result"
    }
   ],
   "source": [
    "root[0][0].tag"
   ]
  },
  {
   "cell_type": "code",
   "execution_count": 18,
   "metadata": {},
   "outputs": [
    {
     "data": {
      "text/plain": [
       "'description'"
      ]
     },
     "execution_count": 18,
     "metadata": {},
     "output_type": "execute_result"
    }
   ],
   "source": [
    "root[0][2].tag"
   ]
  },
  {
   "cell_type": "code",
   "execution_count": null,
   "metadata": {},
   "outputs": [],
   "source": [
    "for child in root.find('channel').find('item').find('description').find('header'):\n",
    "    print(child.tag, ':', child.text)"
   ]
  },
  {
   "cell_type": "code",
   "execution_count": null,
   "metadata": {},
   "outputs": [],
   "source": [
    "for child in root.find('channel').find('item').find('description').find('body').find('location'):\n",
    "    print(child.tag, ':', child.text)"
   ]
  },
  {
   "cell_type": "code",
   "execution_count": null,
   "metadata": {},
   "outputs": [],
   "source": [
    "root.find('channel').find('item').find('description').find('body').find('location').findall('data')"
   ]
  },
  {
   "cell_type": "code",
   "execution_count": null,
   "metadata": {},
   "outputs": [],
   "source": [
    "for data in root.find('channel').find('item').find('description').find('body').find('location').findall('data'):\n",
    "    for child in data:\n",
    "        print(child.tag, ':', child.text)"
   ]
  },
  {
   "cell_type": "code",
   "execution_count": null,
   "metadata": {},
   "outputs": [],
   "source": [
    "for data in root.iter('data'):\n",
    "    for child in data:\n",
    "         print(child.tag, ':', child.text)"
   ]
  },
  {
   "cell_type": "code",
   "execution_count": null,
   "metadata": {},
   "outputs": [],
   "source": [
    "for child in root.iter():\n",
    "    print(child.tag)"
   ]
  },
  {
   "cell_type": "code",
   "execution_count": null,
   "metadata": {},
   "outputs": [],
   "source": [
    "root.find('.')"
   ]
  },
  {
   "cell_type": "code",
   "execution_count": null,
   "metadata": {},
   "outputs": [],
   "source": [
    "root.find('./channel')"
   ]
  },
  {
   "cell_type": "code",
   "execution_count": null,
   "metadata": {},
   "outputs": [],
   "source": [
    "root.find('channel').find('item').find('description').find('body').find('location').findall('data')"
   ]
  },
  {
   "cell_type": "code",
   "execution_count": null,
   "metadata": {},
   "outputs": [],
   "source": [
    "root.find('./channel/item/description/body/location').findall('data')"
   ]
  },
  {
   "cell_type": "code",
   "execution_count": null,
   "metadata": {},
   "outputs": [],
   "source": [
    "root.find('.//item/description/body/location').findall('data')"
   ]
  },
  {
   "cell_type": "code",
   "execution_count": null,
   "metadata": {},
   "outputs": [],
   "source": [
    "root.find('.//location').findall('data')"
   ]
  },
  {
   "cell_type": "code",
   "execution_count": null,
   "metadata": {},
   "outputs": [],
   "source": [
    "root.findall('.//data')"
   ]
  },
  {
   "cell_type": "code",
   "execution_count": null,
   "metadata": {},
   "outputs": [],
   "source": [
    "for data in root.findall('.//data'):\n",
    "    for child in data:\n",
    "        print(child.tag, ':', child.text)"
   ]
  },
  {
   "cell_type": "code",
   "execution_count": null,
   "metadata": {},
   "outputs": [],
   "source": []
  }
 ],
 "metadata": {
  "kernelspec": {
   "display_name": "Python 3",
   "language": "python",
   "name": "python3"
  },
  "language_info": {
   "codemirror_mode": {
    "name": "ipython",
    "version": 3
   },
   "file_extension": ".py",
   "mimetype": "text/x-python",
   "name": "python",
   "nbconvert_exporter": "python",
   "pygments_lexer": "ipython3",
   "version": "3.7.3"
  }
 },
 "nbformat": 4,
 "nbformat_minor": 2
}
